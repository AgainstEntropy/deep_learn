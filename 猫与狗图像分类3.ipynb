{
  "nbformat": 4,
  "nbformat_minor": 0,
  "metadata": {
    "colab": {
      "name": "猫与狗图像分类3",
      "version": "0.3.2",
      "provenance": [],
      "collapsed_sections": [
        "jTEzoMx6CasV"
      ],
      "include_colab_link": true
    },
    "kernelspec": {
      "display_name": "Python 2",
      "name": "python2"
    },
    "accelerator": "GPU"
  },
  "cells": [
    {
      "cell_type": "markdown",
      "metadata": {
        "id": "view-in-github",
        "colab_type": "text"
      },
      "source": [
        "<a href=\"https://colab.research.google.com/github/ZHBIT92/deep_learn/blob/master/%E7%8C%AB%E4%B8%8E%E7%8B%97%E5%9B%BE%E5%83%8F%E5%88%86%E7%B1%BB3.ipynb\" target=\"_parent\"><img src=\"https://colab.research.google.com/assets/colab-badge.svg\" alt=\"Open In Colab\"/></a>"
      ]
    },
    {
      "metadata": {
        "colab_type": "text",
        "id": "jTEzoMx6CasV"
      },
      "cell_type": "markdown",
      "source": [
        "#### Copyright 2018 Google LLC."
      ]
    },
    {
      "metadata": {
        "colab": {},
        "colab_type": "code",
        "id": "IhmPj1VVCfWb"
      },
      "cell_type": "code",
      "source": [
        "# Licensed under the Apache License, Version 2.0 (the \"License\");\n",
        "# you may not use this file except in compliance with the License.\n",
        "# You may obtain a copy of the License at\n",
        "#\n",
        "# https://www.apache.org/licenses/LICENSE-2.0\n",
        "#\n",
        "# Unless required by applicable law or agreed to in writing, software\n",
        "# distributed under the License is distributed on an \"AS IS\" BASIS,\n",
        "# WITHOUT WARRANTIES OR CONDITIONS OF ANY KIND, either express or implied.\n",
        "# See the License for the specific language governing permissions and\n",
        "# limitations under the License."
      ],
      "execution_count": 0,
      "outputs": []
    },
    {
      "metadata": {
        "colab_type": "text",
        "id": "YHK6DyunSbs4"
      },
      "cell_type": "markdown",
      "source": [
        "# Cat vs. Dog Image Classification\n",
        "## Exercise 3: Feature Extraction and Fine-Tuning\n",
        "**_Estimated completion time: 30 minutes_**\n",
        "\n",
        "In Exercise 1, we built a convnet from scratch, and were able to achieve an accuracy of about 70%. With the addition of data augmentation and dropout in Exercise 2, we were able to increase accuracy to about 80%. That seems decent, but 20% is still too high of an error rate. Maybe we just don't have enough training data available to properly solve the problem. What other approaches can we try?\n",
        "\n",
        "In this exercise, we'll look at two techniques for repurposing feature data generated from image models that have already been trained on large sets of data, **feature extraction** and **fine tuning**, and use them to improve the accuracy of our cat vs. dog classification model."
      ]
    },
    {
      "metadata": {
        "colab_type": "text",
        "id": "dI5rmt4UBwXs"
      },
      "cell_type": "markdown",
      "source": [
        "## Feature Extraction Using a Pretrained Model\n",
        "\n",
        "One thing that is commonly done in computer vision is to take a model trained on a very large dataset, run it on your own, smaller dataset, and extract the intermediate representations (features) that the model generates. These representations are frequently informative for your own computer vision task, even though the task may be quite different from the problem that the original model was trained on. This versatility and repurposability of convnets is one of the most interesting aspects of deep learning.\n",
        "\n",
        "In our case, we will use the [Inception V3 model](https://arxiv.org/abs/1512.00567) developed at Google, and pre-trained on [ImageNet](http://image-net.org/), a large dataset of web images (1.4M images and 1000 classes). This is a powerful model; let's see what the features that it has learned can do for our cat vs. dog problem.\n",
        "\n",
        "First, we need to pick which intermediate layer of Inception V3 we will use for feature extraction. A common practice is to use the output of the very last layer before the `Flatten` operation, the so-called \"bottleneck layer.\" The reasoning here is that the following fully connected layers will be too specialized for the task the network was trained on, and thus the features learned by these layers won't be very useful for a new task. The bottleneck features, however, retain much generality.\n",
        "\n",
        "Let's instantiate an Inception V3 model preloaded with weights trained on ImageNet:\n"
      ]
    },
    {
      "metadata": {
        "colab": {},
        "colab_type": "code",
        "id": "1xJZ5glPPCRz"
      },
      "cell_type": "code",
      "source": [
        "import os\n",
        "\n",
        "from tensorflow.keras import layers\n",
        "from tensorflow.keras import Model"
      ],
      "execution_count": 0,
      "outputs": []
    },
    {
      "metadata": {
        "colab_type": "text",
        "id": "VaXLMtYiF0t9"
      },
      "cell_type": "markdown",
      "source": [
        "Now let's download the weights:"
      ]
    },
    {
      "metadata": {
        "colab": {
          "base_uri": "https://localhost:8080/",
          "height": 215
        },
        "colab_type": "code",
        "id": "KMrbllgAFipZ",
        "outputId": "f8fd5c6d-348d-4449-ff1a-5eab860c2555"
      },
      "cell_type": "code",
      "source": [
        "!wget --no-check-certificate \\\n",
        "    https://storage.googleapis.com/mledu-datasets/inception_v3_weights_tf_dim_ordering_tf_kernels_notop.h5 \\\n",
        "    -O /tmp/inception_v3_weights_tf_dim_ordering_tf_kernels_notop.h5"
      ],
      "execution_count": 2,
      "outputs": [
        {
          "output_type": "stream",
          "text": [
            "--2018-10-15 03:34:10--  https://storage.googleapis.com/mledu-datasets/inception_v3_weights_tf_dim_ordering_tf_kernels_notop.h5\n",
            "Resolving storage.googleapis.com (storage.googleapis.com)... 74.125.206.128, 2a00:1450:400c:c04::80\n",
            "Connecting to storage.googleapis.com (storage.googleapis.com)|74.125.206.128|:443... connected.\n",
            "HTTP request sent, awaiting response... 200 OK\n",
            "Length: 87910968 (84M) [application/x-hdf]\n",
            "Saving to: ‘/tmp/inception_v3_weights_tf_dim_ordering_tf_kernels_notop.h5’\n",
            "\n",
            "/tmp/inception_v3_w 100%[===================>]  83.84M  38.6MB/s    in 2.2s    \n",
            "\n",
            "2018-10-15 03:34:13 (38.6 MB/s) - ‘/tmp/inception_v3_weights_tf_dim_ordering_tf_kernels_notop.h5’ saved [87910968/87910968]\n",
            "\n"
          ],
          "name": "stdout"
        }
      ]
    },
    {
      "metadata": {
        "colab": {},
        "colab_type": "code",
        "id": "UnRiGBfOF8rq"
      },
      "cell_type": "code",
      "source": [
        "from tensorflow.keras.applications.inception_v3 import InceptionV3\n",
        "\n",
        "local_weights_file = '/tmp/inception_v3_weights_tf_dim_ordering_tf_kernels_notop.h5'\n",
        "pre_trained_model = InceptionV3(\n",
        "    input_shape=(150, 150, 3), include_top=False, weights=None)\n",
        "pre_trained_model.load_weights(local_weights_file)"
      ],
      "execution_count": 0,
      "outputs": []
    },
    {
      "metadata": {
        "colab_type": "text",
        "id": "IcYZPBS3bTAj"
      },
      "cell_type": "markdown",
      "source": [
        "By specifying the `include_top=False` argument, we load a network that doesn't include the classification layers at the top—ideal for feature extraction."
      ]
    },
    {
      "metadata": {
        "colab_type": "text",
        "id": "CFxrqTuJee5m"
      },
      "cell_type": "markdown",
      "source": [
        "Let's make the model non-trainable, since we will only use it for feature extraction; we won't update the weights of the pretrained model during training."
      ]
    },
    {
      "metadata": {
        "colab": {},
        "colab_type": "code",
        "id": "a38rB3lyedcB"
      },
      "cell_type": "code",
      "source": [
        "for layer in pre_trained_model.layers:\n",
        "  layer.trainable = False"
      ],
      "execution_count": 0,
      "outputs": []
    },
    {
      "metadata": {
        "colab_type": "text",
        "id": "XGBGDiOAepnO"
      },
      "cell_type": "markdown",
      "source": [
        "The layer we will use for feature extraction in Inception v3 is called `mixed7`. It is not the bottleneck of the network, but we are using it to keep a sufficiently large feature map (7x7 in this case). (Using the bottleneck layer would have resulting in a 3x3 feature map, which is a bit small.) Let's get the output from `mixed7`:"
      ]
    },
    {
      "metadata": {
        "colab": {
          "base_uri": "https://localhost:8080/",
          "height": 35
        },
        "colab_type": "code",
        "id": "Cj4rXshqbQlS",
        "outputId": "71321842-3864-44c9-dae4-0565e579ee5e"
      },
      "cell_type": "code",
      "source": [
        "last_layer = pre_trained_model.get_layer('mixed7')\n",
        "print 'last layer output shape:', last_layer.output_shape\n",
        "last_output = last_layer.output"
      ],
      "execution_count": 5,
      "outputs": [
        {
          "output_type": "stream",
          "text": [
            "last layer output shape: (None, 7, 7, 768)\n"
          ],
          "name": "stdout"
        }
      ]
    },
    {
      "metadata": {
        "colab_type": "text",
        "id": "XxHk6XQLeUWh"
      },
      "cell_type": "markdown",
      "source": [
        "Now let's stick a fully connected classifier on top of `last_output`:"
      ]
    },
    {
      "metadata": {
        "colab": {},
        "colab_type": "code",
        "id": "BMXb913pbvFg"
      },
      "cell_type": "code",
      "source": [
        "from tensorflow.keras.optimizers import RMSprop\n",
        "\n",
        "# Flatten the output layer to 1 dimension\n",
        "x = layers.Flatten()(last_output)\n",
        "# Add a fully connected layer with 1,024 hidden units and ReLU activation\n",
        "x = layers.Dense(1024, activation='relu')(x)\n",
        "# Add a dropout rate of 0.2\n",
        "x = layers.Dropout(0.2)(x)\n",
        "# Add a final sigmoid layer for classification\n",
        "x = layers.Dense(1, activation='sigmoid')(x)\n",
        "\n",
        "# Configure and compile the model\n",
        "model = Model(pre_trained_model.input, x)\n",
        "model.compile(loss='binary_crossentropy',\n",
        "              optimizer=RMSprop(lr=0.0001),\n",
        "              metrics=['acc'])"
      ],
      "execution_count": 0,
      "outputs": []
    },
    {
      "metadata": {
        "colab_type": "text",
        "id": "_6ECjowwV5Ug"
      },
      "cell_type": "markdown",
      "source": [
        "For examples and data preprocessing, let's use the same files and `train_generator` as we did in Exercise 2."
      ]
    },
    {
      "metadata": {
        "colab_type": "text",
        "id": "Cl-IqOTjZVw_"
      },
      "cell_type": "markdown",
      "source": [
        "**NOTE:** The 2,000 images used in this exercise are excerpted from the [\"Dogs vs. Cats\" dataset](https://www.kaggle.com/c/dogs-vs-cats/data) available on Kaggle, which contains 25,000 images. Here, we use a subset of the full dataset to decrease training time for educational purposes."
      ]
    },
    {
      "metadata": {
        "colab": {
          "base_uri": "https://localhost:8080/",
          "height": 215
        },
        "colab_type": "code",
        "id": "O4s8HckqGlnb",
        "outputId": "6d5fcba1-3578-4ceb-c1a5-f0f49b01a2ef"
      },
      "cell_type": "code",
      "source": [
        "!wget --no-check-certificate \\\n",
        "   https://storage.googleapis.com/mledu-datasets/cats_and_dogs_filtered.zip -O \\\n",
        "   /tmp/cats_and_dogs_filtered.zip"
      ],
      "execution_count": 7,
      "outputs": [
        {
          "output_type": "stream",
          "text": [
            "--2018-10-15 03:37:40--  https://storage.googleapis.com/mledu-datasets/cats_and_dogs_filtered.zip\n",
            "Resolving storage.googleapis.com (storage.googleapis.com)... 74.125.206.128, 2a00:1450:400c:c04::80\n",
            "Connecting to storage.googleapis.com (storage.googleapis.com)|74.125.206.128|:443... connected.\n",
            "HTTP request sent, awaiting response... 200 OK\n",
            "Length: 68606236 (65M) [application/zip]\n",
            "Saving to: ‘/tmp/cats_and_dogs_filtered.zip’\n",
            "\n",
            "/tmp/cats_and_dogs_ 100%[===================>]  65.43M  59.8MB/s    in 1.1s    \n",
            "\n",
            "2018-10-15 03:37:42 (59.8 MB/s) - ‘/tmp/cats_and_dogs_filtered.zip’ saved [68606236/68606236]\n",
            "\n"
          ],
          "name": "stdout"
        }
      ]
    },
    {
      "metadata": {
        "colab": {
          "base_uri": "https://localhost:8080/",
          "height": 53
        },
        "colab_type": "code",
        "id": "Fl9XXARuV_eg",
        "outputId": "dbecadfa-3d9b-42e1-fabe-f80b2371702b"
      },
      "cell_type": "code",
      "source": [
        "import os\n",
        "import zipfile\n",
        "\n",
        "from tensorflow.keras.preprocessing.image import ImageDataGenerator\n",
        "\n",
        "local_zip = '/tmp/cats_and_dogs_filtered.zip'\n",
        "zip_ref = zipfile.ZipFile(local_zip, 'r')\n",
        "zip_ref.extractall('/tmp')\n",
        "zip_ref.close()\n",
        "\n",
        "# Define our example directories and files\n",
        "base_dir = '/tmp/cats_and_dogs_filtered'\n",
        "train_dir = os.path.join(base_dir, 'train')\n",
        "validation_dir = os.path.join(base_dir, 'validation')\n",
        "\n",
        "# Directory with our training cat pictures\n",
        "train_cats_dir = os.path.join(train_dir, 'cats')\n",
        "\n",
        "# Directory with our training dog pictures\n",
        "train_dogs_dir = os.path.join(train_dir, 'dogs')\n",
        "\n",
        "# Directory with our validation cat pictures\n",
        "validation_cats_dir = os.path.join(validation_dir, 'cats')\n",
        "\n",
        "# Directory with our validation dog pictures\n",
        "validation_dogs_dir = os.path.join(validation_dir, 'dogs')\n",
        "\n",
        "train_cat_fnames = os.listdir(train_cats_dir)\n",
        "train_dog_fnames = os.listdir(train_dogs_dir)\n",
        "\n",
        "# Add our data-augmentation parameters to ImageDataGenerator\n",
        "train_datagen = ImageDataGenerator(\n",
        "    rescale=1./255,\n",
        "    rotation_range=40,\n",
        "    width_shift_range=0.2,\n",
        "    height_shift_range=0.2,\n",
        "    shear_range=0.2,\n",
        "    zoom_range=0.2,\n",
        "    horizontal_flip=True)\n",
        "\n",
        "# Note that the validation data should not be augmented!\n",
        "test_datagen = ImageDataGenerator(rescale=1./255)\n",
        "\n",
        "train_generator = train_datagen.flow_from_directory(\n",
        "        train_dir, # This is the source directory for training images\n",
        "        target_size=(150, 150),  # All images will be resized to 150x150\n",
        "        batch_size=20,\n",
        "        # Since we use binary_crossentropy loss, we need binary labels\n",
        "        class_mode='binary')\n",
        "\n",
        "# Flow validation images in batches of 20 using test_datagen generator\n",
        "validation_generator = test_datagen.flow_from_directory(\n",
        "        validation_dir,\n",
        "        target_size=(150, 150),\n",
        "        batch_size=20,\n",
        "        class_mode='binary')"
      ],
      "execution_count": 8,
      "outputs": [
        {
          "output_type": "stream",
          "text": [
            "Found 2000 images belonging to 2 classes.\n",
            "Found 1000 images belonging to 2 classes.\n"
          ],
          "name": "stdout"
        }
      ]
    },
    {
      "metadata": {
        "colab_type": "text",
        "id": "qEC1AL7iVRLz"
      },
      "cell_type": "markdown",
      "source": [
        "Finally, let's train the model using the features we extracted. We'll train on all 2000 images available, for 2 epochs, and validate on all 1,000 test images."
      ]
    },
    {
      "metadata": {
        "colab": {
          "base_uri": "https://localhost:8080/",
          "height": 89
        },
        "colab_type": "code",
        "id": "Blhq2MAUeyGA",
        "outputId": "e03448bd-33ce-49e4-9117-40c291cb8ff3"
      },
      "cell_type": "code",
      "source": [
        "history = model.fit_generator(\n",
        "      train_generator,\n",
        "      steps_per_epoch=100,\n",
        "      epochs=2,\n",
        "      validation_data=validation_generator,\n",
        "      validation_steps=50,\n",
        "      verbose=2)"
      ],
      "execution_count": 9,
      "outputs": [
        {
          "output_type": "stream",
          "text": [
            "Epoch 1/2\n",
            " - 29s - loss: 0.4763 - acc: 0.7835 - val_loss: 0.2702 - val_acc: 0.9180\n",
            "Epoch 2/2\n",
            " - 23s - loss: 0.3863 - acc: 0.8260 - val_loss: 0.1830 - val_acc: 0.9530\n"
          ],
          "name": "stdout"
        }
      ]
    },
    {
      "metadata": {
        "colab_type": "text",
        "id": "lRjyAkE62aOG"
      },
      "cell_type": "markdown",
      "source": [
        "You can see that we reach a validation accuracy of 88–90% very quickly. This is much better than the small model we trained from scratch."
      ]
    },
    {
      "metadata": {
        "colab_type": "text",
        "id": "tt15y6IS2pBo"
      },
      "cell_type": "markdown",
      "source": [
        "## Further Improving Accuracy with Fine-Tuning\n",
        "\n",
        "In our feature-extraction experiment, we only tried adding two classification layers on top of an Inception V3 layer. The weights of the pretrained network were not updated during training. One way to increase performance even further is to \"fine-tune\" the weights of the top layers of the pretrained model alongside the training of the top-level classifier. A couple of important notes on fine-tuning:\n",
        "\n",
        "- **Fine-tuning should only be attempted *after* you have trained the top-level classifier with the pretrained model set to non-trainable**. If you add a randomly initialized classifier on top of a pretrained model and attempt to train all layers jointly, the magnitude of the gradient updates will be too large (due to the random weights from the classifier), and your pretrained model will just forget everything it has learned.\n",
        "- Additionally, we **fine-tune only the *top layers* of the pre-trained model** rather than all layers of the pretrained model because, in a convnet, the higher up a layer is, the more specialized it is. The first few layers in a convnet learn very simple and generic features, which generalize to almost all types of images. But as you go higher up, the features are increasingly specific to the dataset that the model is trained on. The goal of fine-tuning is to adapt these specialized features to work with the new dataset.\n",
        "\n",
        "All we need to do to implement fine-tuning is to set the top layers of Inception V3 to be trainable, recompile the model (necessary for these changes to take effect), and resume training. Let's unfreeze all layers belonging to the `mixed7` module—i.e., all layers found after `mixed6`—and recompile the model:"
      ]
    },
    {
      "metadata": {
        "colab": {},
        "colab_type": "code",
        "id": "_l_J4S0Z2rgg"
      },
      "cell_type": "code",
      "source": [
        "from tensorflow.keras.optimizers import SGD\n",
        "\n",
        "unfreeze = False\n",
        "\n",
        "# Unfreeze all models after \"mixed6\"\n",
        "for layer in pre_trained_model.layers:\n",
        "  if unfreeze:\n",
        "    layer.trainable = True\n",
        "  if layer.name == 'mixed6':\n",
        "    unfreeze = True\n",
        "\n",
        "# As an optimizer, here we will use SGD \n",
        "# with a very low learning rate (0.00001)\n",
        "model.compile(loss='binary_crossentropy',\n",
        "              optimizer=SGD(\n",
        "                  lr=0.00001, \n",
        "                  momentum=0.9),\n",
        "              metrics=['acc'])"
      ],
      "execution_count": 0,
      "outputs": []
    },
    {
      "metadata": {
        "colab_type": "text",
        "id": "zE37ARlqY9da"
      },
      "cell_type": "markdown",
      "source": [
        "Now let's retrain the model. We'll train on all 2000 images available, for 50 epochs, and validate on all 1,000 test images. (This may take 15-20 minutes to run.)"
      ]
    },
    {
      "metadata": {
        "colab": {
          "base_uri": "https://localhost:8080/",
          "height": 1817
        },
        "colab_type": "code",
        "id": "o_GgDGG4Y_hJ",
        "outputId": "a4e9f120-09ba-4d40-aa6c-f98652c8e871"
      },
      "cell_type": "code",
      "source": [
        "history = model.fit_generator(\n",
        "      train_generator,\n",
        "      steps_per_epoch=100,\n",
        "      epochs=30,\n",
        "      validation_data=validation_generator,\n",
        "      validation_steps=50,\n",
        "      verbose=2)"
      ],
      "execution_count": 11,
      "outputs": [
        {
          "output_type": "stream",
          "text": [
            "Epoch 1/50\n",
            " - 28s - loss: 0.3022 - acc: 0.8655 - val_loss: 0.2011 - val_acc: 0.9530\n",
            "Epoch 2/50\n",
            " - 22s - loss: 0.2657 - acc: 0.8840 - val_loss: 0.2118 - val_acc: 0.9500\n",
            "Epoch 3/50\n",
            " - 23s - loss: 0.2834 - acc: 0.8725 - val_loss: 0.2137 - val_acc: 0.9490\n",
            "Epoch 4/50\n",
            " - 22s - loss: 0.2887 - acc: 0.8745 - val_loss: 0.2155 - val_acc: 0.9490\n",
            "Epoch 5/50\n",
            " - 23s - loss: 0.2750 - acc: 0.8765 - val_loss: 0.2207 - val_acc: 0.9500\n",
            "Epoch 6/50\n",
            " - 23s - loss: 0.2793 - acc: 0.8770 - val_loss: 0.2201 - val_acc: 0.9500\n",
            "Epoch 7/50\n",
            " - 23s - loss: 0.2763 - acc: 0.8830 - val_loss: 0.2189 - val_acc: 0.9500\n",
            "Epoch 8/50\n",
            " - 23s - loss: 0.2709 - acc: 0.8795 - val_loss: 0.2169 - val_acc: 0.9490\n",
            "Epoch 9/50\n",
            " - 23s - loss: 0.2633 - acc: 0.8860 - val_loss: 0.2191 - val_acc: 0.9490\n",
            "Epoch 10/50\n",
            " - 23s - loss: 0.2879 - acc: 0.8810 - val_loss: 0.2177 - val_acc: 0.9490\n",
            "Epoch 11/50\n",
            " - 22s - loss: 0.2714 - acc: 0.8770 - val_loss: 0.2192 - val_acc: 0.9490\n",
            "Epoch 12/50\n",
            " - 23s - loss: 0.2631 - acc: 0.8875 - val_loss: 0.2172 - val_acc: 0.9490\n",
            "Epoch 13/50\n",
            " - 23s - loss: 0.2858 - acc: 0.8740 - val_loss: 0.2210 - val_acc: 0.9490\n",
            "Epoch 14/50\n",
            " - 23s - loss: 0.2677 - acc: 0.8820 - val_loss: 0.2224 - val_acc: 0.9500\n",
            "Epoch 15/50\n",
            " - 23s - loss: 0.2843 - acc: 0.8655 - val_loss: 0.2228 - val_acc: 0.9510\n",
            "Epoch 16/50\n",
            " - 22s - loss: 0.2771 - acc: 0.8815 - val_loss: 0.2210 - val_acc: 0.9500\n",
            "Epoch 17/50\n",
            " - 23s - loss: 0.2865 - acc: 0.8825 - val_loss: 0.2228 - val_acc: 0.9510\n",
            "Epoch 18/50\n",
            " - 22s - loss: 0.2846 - acc: 0.8750 - val_loss: 0.2224 - val_acc: 0.9510\n",
            "Epoch 19/50\n",
            " - 23s - loss: 0.2649 - acc: 0.8865 - val_loss: 0.2200 - val_acc: 0.9520\n",
            "Epoch 20/50\n",
            " - 23s - loss: 0.2881 - acc: 0.8720 - val_loss: 0.2225 - val_acc: 0.9510\n",
            "Epoch 21/50\n",
            " - 23s - loss: 0.2854 - acc: 0.8750 - val_loss: 0.2249 - val_acc: 0.9510\n",
            "Epoch 22/50\n",
            " - 23s - loss: 0.2718 - acc: 0.8830 - val_loss: 0.2265 - val_acc: 0.9510\n",
            "Epoch 23/50\n",
            " - 23s - loss: 0.2782 - acc: 0.8805 - val_loss: 0.2250 - val_acc: 0.9510\n",
            "Epoch 24/50\n",
            " - 23s - loss: 0.2702 - acc: 0.8815 - val_loss: 0.2241 - val_acc: 0.9510\n",
            "Epoch 25/50\n",
            " - 23s - loss: 0.2819 - acc: 0.8810 - val_loss: 0.2284 - val_acc: 0.9500\n",
            "Epoch 26/50\n",
            " - 23s - loss: 0.2831 - acc: 0.8625 - val_loss: 0.2298 - val_acc: 0.9500\n",
            "Epoch 27/50\n",
            " - 23s - loss: 0.2858 - acc: 0.8760 - val_loss: 0.2276 - val_acc: 0.9500\n",
            "Epoch 28/50\n",
            " - 23s - loss: 0.2750 - acc: 0.8820 - val_loss: 0.2324 - val_acc: 0.9470\n",
            "Epoch 29/50\n",
            " - 23s - loss: 0.2635 - acc: 0.8835 - val_loss: 0.2286 - val_acc: 0.9490\n",
            "Epoch 30/50\n",
            " - 22s - loss: 0.2752 - acc: 0.8775 - val_loss: 0.2347 - val_acc: 0.9460\n",
            "Epoch 31/50\n",
            " - 22s - loss: 0.2698 - acc: 0.8810 - val_loss: 0.2298 - val_acc: 0.9480\n",
            "Epoch 32/50\n",
            " - 22s - loss: 0.2768 - acc: 0.8785 - val_loss: 0.2278 - val_acc: 0.9490\n",
            "Epoch 33/50\n",
            " - 23s - loss: 0.2568 - acc: 0.8975 - val_loss: 0.2310 - val_acc: 0.9480\n",
            "Epoch 34/50\n",
            " - 23s - loss: 0.2770 - acc: 0.8770 - val_loss: 0.2302 - val_acc: 0.9480\n",
            "Epoch 35/50\n",
            " - 23s - loss: 0.2833 - acc: 0.8770 - val_loss: 0.2290 - val_acc: 0.9480\n",
            "Epoch 36/50\n",
            " - 23s - loss: 0.2587 - acc: 0.8920 - val_loss: 0.2311 - val_acc: 0.9480\n",
            "Epoch 37/50\n",
            " - 22s - loss: 0.2660 - acc: 0.8850 - val_loss: 0.2353 - val_acc: 0.9460\n",
            "Epoch 38/50\n",
            " - 23s - loss: 0.2599 - acc: 0.8845 - val_loss: 0.2313 - val_acc: 0.9480\n",
            "Epoch 39/50\n",
            " - 23s - loss: 0.2705 - acc: 0.8795 - val_loss: 0.2289 - val_acc: 0.9480\n",
            "Epoch 40/50\n",
            " - 23s - loss: 0.2749 - acc: 0.8790 - val_loss: 0.2300 - val_acc: 0.9490\n",
            "Epoch 41/50\n",
            " - 23s - loss: 0.2699 - acc: 0.8825 - val_loss: 0.2303 - val_acc: 0.9480\n",
            "Epoch 42/50\n",
            " - 22s - loss: 0.2750 - acc: 0.8800 - val_loss: 0.2289 - val_acc: 0.9480\n",
            "Epoch 43/50\n",
            " - 22s - loss: 0.2667 - acc: 0.8860 - val_loss: 0.2328 - val_acc: 0.9470\n",
            "Epoch 44/50\n",
            " - 22s - loss: 0.2813 - acc: 0.8795 - val_loss: 0.2320 - val_acc: 0.9480\n",
            "Epoch 45/50\n",
            " - 22s - loss: 0.2666 - acc: 0.8795 - val_loss: 0.2318 - val_acc: 0.9480\n",
            "Epoch 46/50\n",
            " - 22s - loss: 0.2658 - acc: 0.8810 - val_loss: 0.2267 - val_acc: 0.9490\n",
            "Epoch 47/50\n",
            " - 23s - loss: 0.2697 - acc: 0.8810 - val_loss: 0.2307 - val_acc: 0.9490\n",
            "Epoch 48/50\n",
            " - 22s - loss: 0.2697 - acc: 0.8850 - val_loss: 0.2320 - val_acc: 0.9480\n",
            "Epoch 49/50\n",
            " - 22s - loss: 0.2525 - acc: 0.8865 - val_loss: 0.2325 - val_acc: 0.9480\n",
            "Epoch 50/50\n",
            " - 22s - loss: 0.2780 - acc: 0.8850 - val_loss: 0.2327 - val_acc: 0.9470\n"
          ],
          "name": "stdout"
        }
      ]
    },
    {
      "metadata": {
        "colab_type": "text",
        "id": "3EPGn58ofwq5"
      },
      "cell_type": "markdown",
      "source": [
        "We are seeing a nice improvement, with the validation loss going from ~1.7 down to ~1.2, and accuracy going from 88% to 92%. That's a 4.5% relative improvement in accuracy.\n",
        "\n",
        "Let's plot the training and validation loss and accuracy to show it conclusively:"
      ]
    },
    {
      "metadata": {
        "colab": {
          "base_uri": "https://localhost:8080/",
          "height": 562
        },
        "colab_type": "code",
        "id": "1FtxcKjJfxL9",
        "outputId": "3e95b39e-3862-4c92-8405-ab3a34b5d7aa"
      },
      "cell_type": "code",
      "source": [
        "%matplotlib inline\n",
        "\n",
        "import matplotlib.pyplot as plt\n",
        "import matplotlib.image as mpimg\n",
        "\n",
        "# Retrieve a list of accuracy results on training and test data\n",
        "# sets for each training epoch\n",
        "acc = history.history['acc']\n",
        "val_acc = history.history['val_acc']\n",
        "\n",
        "# Retrieve a list of list results on training and test data\n",
        "# sets for each training epoch\n",
        "loss = history.history['loss']\n",
        "val_loss = history.history['val_loss']\n",
        "\n",
        "# Get number of epochs\n",
        "epochs = range(len(acc))\n",
        "\n",
        "# Plot training and validation accuracy per epoch\n",
        "plt.plot(epochs, acc)\n",
        "plt.plot(epochs, val_acc)\n",
        "plt.title('Training and validation accuracy')\n",
        "\n",
        "plt.figure()\n",
        "\n",
        "# Plot training and validation loss per epoch\n",
        "plt.plot(epochs, loss)\n",
        "plt.plot(epochs, val_loss)\n",
        "plt.title('Training and validation loss')"
      ],
      "execution_count": 12,
      "outputs": [
        {
          "output_type": "execute_result",
          "data": {
            "text/plain": [
              "Text(0.5,1,u'Training and validation loss')"
            ]
          },
          "metadata": {
            "tags": []
          },
          "execution_count": 12
        },
        {
          "output_type": "display_data",
          "data": {
            "image/png": "[encoded data removed]",
            "text/plain": [
              "<matplotlib.figure.Figure at 0x7fd70bc4e910>"
            ]
          },
          "metadata": {
            "tags": []
          }
        },
        {
          "output_type": "display_data",
          "data": {
            "image/png": "[encoded data removed]",
            "text/plain": [
              "<matplotlib.figure.Figure at 0x7fd70c478850>"
            ]
          },
          "metadata": {
            "tags": []
          }
        }
      ]
    },
    {
      "metadata": {
        "colab_type": "text",
        "id": "X-fUIeizakjE"
      },
      "cell_type": "markdown",
      "source": [
        "Congratulations! Using feature extraction and fine-tuning, you've built an image classification model that can identify cats vs. dogs in images with over 90% accuracy."
      ]
    },
    {
      "metadata": {
        "colab_type": "text",
        "id": "x_ANwJCnx7w-"
      },
      "cell_type": "markdown",
      "source": [
        "## Clean Up\n",
        "\n",
        "Run the following cell to terminate the kernel and free memory resources:"
      ]
    },
    {
      "metadata": {
        "colab": {},
        "colab_type": "code",
        "id": "-hUmyohAyBzh"
      },
      "cell_type": "code",
      "source": [
        "import os, signal\n",
        "os.kill(os.getpid(), signal.SIGKILL)"
      ],
      "execution_count": 0,
      "outputs": []
    }
  ]
}