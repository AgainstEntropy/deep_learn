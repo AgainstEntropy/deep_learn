{
  "nbformat": 4,
  "nbformat_minor": 0,
  "metadata": {
    "colab": {
      "name": "猫狗图V3微调",
      "version": "0.3.2",
      "provenance": [],
      "collapsed_sections": [],
      "include_colab_link": true
    },
    "kernelspec": {
      "name": "python3",
      "display_name": "Python 3"
    }
  },
  "cells": [
    {
      "cell_type": "markdown",
      "metadata": {
        "id": "view-in-github",
        "colab_type": "text"
      },
      "source": [
        "<a href=\"https://colab.research.google.com/github/ZHBIT92/deep_learn/blob/master/%E7%8C%AB%E7%8B%97%E5%9B%BEV3%E5%BE%AE%E8%B0%83.ipynb\" target=\"_parent\"><img src=\"https://colab.research.google.com/assets/colab-badge.svg\" alt=\"Open In Colab\"/></a>"
      ]
    },
    {
      "metadata": {
        "id": "HpAskisN8Pkb",
        "colab_type": "code",
        "colab": {}
      },
      "cell_type": "code",
      "source": [
        "import os\n",
        "\n",
        "from tensorflow.keras import layers\n",
        "from tensorflow.keras import Model\n",
        "\n",
        "# 下载Inception V3的权重\n",
        "!wget --no-check-certificate \\\n",
        "    https://storage.googleapis.com/mledu-datasets/inception_v3_weights_tf_dim_ordering_tf_kernels_notop.h5 \\\n",
        "    -O /tmp/inception_v3_weights_tf_dim_ordering_tf_kernels_notop.h5"
      ],
      "execution_count": 0,
      "outputs": []
    },
    {
      "metadata": {
        "id": "3Gj5WDhn8wdG",
        "colab_type": "text"
      },
      "cell_type": "markdown",
      "source": [
        "* 通过指定include_top=False参数，我们加载一个网络，该网络不包括最适合特征提取的分类层。"
      ]
    },
    {
      "metadata": {
        "id": "KmBAVqu08TRk",
        "colab_type": "code",
        "colab": {
          "base_uri": "https://localhost:8080/",
          "height": 34
        },
        "outputId": "69977c2b-e465-4c9f-a27d-f5f237b195ba"
      },
      "cell_type": "code",
      "source": [
        "from tensorflow.keras.applications.inception_v3 import InceptionV3\n",
        "\n",
        "local_weights_file = '/tmp/inception_v3_weights_tf_dim_ordering_tf_kernels_notop.h5'\n",
        "\n",
        "pre_trained_model = InceptionV3(\n",
        "    input_shape=(150, 150, 3), include_top=False, weights=None)\n",
        "pre_trained_model.load_weights(local_weights_file)\n",
        "\n",
        "# 让预训练模型不可训练，权重不变（只用于特征提取）\n",
        "for layer in pre_trained_model.layers:\n",
        "  layer.trainable = False\n",
        "\n",
        "# 截取到V3中的mixed7层（7*7）特征\n",
        "last_layer = pre_trained_model.get_layer('mixed7')\n",
        "print('last layer output shape:', last_layer.output_shape)\n",
        "last_output = last_layer.output  "
      ],
      "execution_count": 3,
      "outputs": [
        {
          "output_type": "stream",
          "text": [
            "last layer output shape: (None, 7, 7, 768)\n"
          ],
          "name": "stdout"
        }
      ]
    },
    {
      "metadata": {
        "id": "7JYBAHs68dR1",
        "colab_type": "code",
        "colab": {}
      },
      "cell_type": "code",
      "source": [
        "from tensorflow.keras.optimizers import RMSprop\n",
        "\n",
        "# 展平为一维\n",
        "x = layers.Flatten()(last_output)\n",
        "# 添加一个1024个隐藏单元的全连接层\n",
        "x = layers.Dense(1024, activation='relu')(x)\n",
        "# 0.2丢弃\n",
        "x = layers.Dropout(0.2)(x)\n",
        "# sigmoid分类\n",
        "x = layers.Dense(1, activation='sigmoid')(x)\n",
        "\n",
        "# 编辑模型\n",
        "model = Model(pre_trained_model.input, x)\n",
        "model.compile(loss='binary_crossentropy',\n",
        "              optimizer=RMSprop(lr=0.0001),\n",
        "              metrics=['acc'])"
      ],
      "execution_count": 0,
      "outputs": []
    },
    {
      "metadata": {
        "id": "JemSyDve973m",
        "colab_type": "code",
        "colab": {
          "base_uri": "https://localhost:8080/",
          "height": 255
        },
        "outputId": "90f98425-c85c-4861-a66e-b38a79b4dabb"
      },
      "cell_type": "code",
      "source": [
        "!wget --no-check-certificate \\\n",
        "   https://storage.googleapis.com/mledu-datasets/cats_and_dogs_filtered.zip -O \\\n",
        "   /tmp/cats_and_dogs_filtered.zip\n",
        "\n",
        "# 数据处理\n",
        "  \n",
        "import os\n",
        "import zipfile\n",
        "\n",
        "from tensorflow.keras.preprocessing.image import ImageDataGenerator\n",
        "\n",
        "local_zip = '/tmp/cats_and_dogs_filtered.zip'\n",
        "zip_ref = zipfile.ZipFile(local_zip, 'r')\n",
        "zip_ref.extractall('/tmp')\n",
        "zip_ref.close()\n",
        "\n",
        "# Define our example directories and files\n",
        "base_dir = '/tmp/cats_and_dogs_filtered'\n",
        "train_dir = os.path.join(base_dir, 'train')\n",
        "validation_dir = os.path.join(base_dir, 'validation')\n",
        "\n",
        "\n",
        "train_cats_dir = os.path.join(train_dir, 'cats')\n",
        "train_dogs_dir = os.path.join(train_dir, 'dogs')\n",
        "\n",
        "validation_cats_dir = os.path.join(validation_dir, 'cats')\n",
        "validation_dogs_dir = os.path.join(validation_dir, 'dogs')\n",
        "\n",
        "train_cat_fnames = os.listdir(train_cats_dir)\n",
        "train_dog_fnames = os.listdir(train_dogs_dir)\n",
        "\n",
        "# 数据增强（随机转换）\n",
        "train_datagen = ImageDataGenerator(\n",
        "    rescale=1./255,\n",
        "    rotation_range=40,\n",
        "    width_shift_range=0.2,\n",
        "    height_shift_range=0.2,\n",
        "    shear_range=0.2,\n",
        "    zoom_range=0.2,\n",
        "    horizontal_flip=True)\n",
        "\n",
        "# 训练集不变\n",
        "test_datagen = ImageDataGenerator(rescale=1./255)\n",
        "\n",
        "train_generator = train_datagen.flow_from_directory(\n",
        "        train_dir, # This is the source directory for training images\n",
        "        target_size=(150, 150),  # All images will be resized to 150x150\n",
        "        batch_size=20,\n",
        "        # Since we use binary_crossentropy loss, we need binary labels\n",
        "        class_mode='binary')\n",
        "\n",
        "# Flow validation images in batches of 20 using test_datagen generator\n",
        "validation_generator = test_datagen.flow_from_directory(\n",
        "        validation_dir,\n",
        "        target_size=(150, 150),\n",
        "        batch_size=20,\n",
        "        class_mode='binary')"
      ],
      "execution_count": 6,
      "outputs": [
        {
          "output_type": "stream",
          "text": [
            "--2018-10-24 02:47:44--  https://storage.googleapis.com/mledu-datasets/cats_and_dogs_filtered.zip\n",
            "Resolving storage.googleapis.com (storage.googleapis.com)... 74.125.197.128, 2607:f8b0:400e:c03::80\n",
            "Connecting to storage.googleapis.com (storage.googleapis.com)|74.125.197.128|:443... connected.\n",
            "HTTP request sent, awaiting response... 200 OK\n",
            "Length: 68606236 (65M) [application/zip]\n",
            "Saving to: ‘/tmp/cats_and_dogs_filtered.zip’\n",
            "\n",
            "/tmp/cats_and_dogs_ 100%[===================>]  65.43M  88.8MB/s    in 0.7s    \n",
            "\n",
            "2018-10-24 02:47:45 (88.8 MB/s) - ‘/tmp/cats_and_dogs_filtered.zip’ saved [68606236/68606236]\n",
            "\n",
            "Found 2000 images belonging to 2 classes.\n",
            "Found 1000 images belonging to 2 classes.\n"
          ],
          "name": "stdout"
        }
      ]
    },
    {
      "metadata": {
        "id": "ehsEWlKO-DuX",
        "colab_type": "code",
        "colab": {
          "base_uri": "https://localhost:8080/",
          "height": 84
        },
        "outputId": "bad37eaf-275f-4704-8d9a-1993e0940e51"
      },
      "cell_type": "code",
      "source": [
        "history = model.fit_generator(\n",
        "      train_generator,\n",
        "      steps_per_epoch=100,\n",
        "      epochs=2,\n",
        "      validation_data=validation_generator,\n",
        "      validation_steps=50,\n",
        "      verbose=2)"
      ],
      "execution_count": 8,
      "outputs": [
        {
          "output_type": "stream",
          "text": [
            "Epoch 1/2\n",
            " - 204s - loss: 0.3300 - acc: 0.8540 - val_loss: 0.2865 - val_acc: 0.9350\n",
            "Epoch 2/2\n",
            " - 200s - loss: 0.3066 - acc: 0.8705 - val_loss: 0.3253 - val_acc: 0.9410\n"
          ],
          "name": "stdout"
        }
      ]
    },
    {
      "metadata": {
        "id": "8ysujeyXBf2P",
        "colab_type": "code",
        "colab": {
          "base_uri": "https://localhost:8080/",
          "height": 1025
        },
        "outputId": "967ed455-43cd-4869-e557-799807b9096a"
      },
      "cell_type": "code",
      "source": [
        "from tensorflow.keras.optimizers import SGD\n",
        "\n",
        "# 锁定层不可变\n",
        "unfreeze = False\n",
        "\n",
        "# 解锁mixed6后面的层\n",
        "for layer in pre_trained_model.layers:\n",
        "  if unfreeze:\n",
        "    layer.trainable = True\n",
        "  if layer.name == 'mixed6':\n",
        "    unfreeze = True\n",
        "\n",
        "# As an optimizer, here we will use SGD\n",
        "# SGD优化器\n",
        "model.compile(loss='binary_crossentropy',\n",
        "              optimizer=SGD(\n",
        "                  lr=0.00001, \n",
        "                  momentum=0.9),\n",
        "              metrics=['acc'])\n",
        "\n",
        "history = model.fit_generator(\n",
        "      train_generator,\n",
        "      steps_per_epoch=100,\n",
        "      epochs=30,\n",
        "      validation_data=validation_generator,\n",
        "      validation_steps=50,\n",
        "      verbose=2)"
      ],
      "execution_count": 9,
      "outputs": [
        {
          "output_type": "stream",
          "text": [
            "Epoch 1/30\n",
            " - 222s - loss: 0.2824 - acc: 0.8810 - val_loss: 0.3328 - val_acc: 0.9420\n",
            "Epoch 2/30\n",
            " - 219s - loss: 0.2831 - acc: 0.8805 - val_loss: 0.3286 - val_acc: 0.9430\n",
            "Epoch 3/30\n",
            " - 220s - loss: 0.2459 - acc: 0.8975 - val_loss: 0.3272 - val_acc: 0.9460\n",
            "Epoch 4/30\n",
            " - 220s - loss: 0.2681 - acc: 0.8835 - val_loss: 0.3261 - val_acc: 0.9450\n",
            "Epoch 5/30\n",
            " - 220s - loss: 0.2685 - acc: 0.8900 - val_loss: 0.3293 - val_acc: 0.9460\n",
            "Epoch 6/30\n",
            " - 220s - loss: 0.2747 - acc: 0.8850 - val_loss: 0.3311 - val_acc: 0.9450\n",
            "Epoch 7/30\n",
            " - 219s - loss: 0.2714 - acc: 0.8840 - val_loss: 0.3316 - val_acc: 0.9450\n",
            "Epoch 8/30\n",
            " - 219s - loss: 0.2546 - acc: 0.8890 - val_loss: 0.3292 - val_acc: 0.9450\n",
            "Epoch 9/30\n",
            " - 221s - loss: 0.2579 - acc: 0.8855 - val_loss: 0.3286 - val_acc: 0.9440\n",
            "Epoch 10/30\n",
            " - 221s - loss: 0.2624 - acc: 0.8795 - val_loss: 0.3392 - val_acc: 0.9420\n",
            "Epoch 11/30\n",
            " - 221s - loss: 0.2648 - acc: 0.8760 - val_loss: 0.3389 - val_acc: 0.9420\n",
            "Epoch 12/30\n",
            " - 221s - loss: 0.2693 - acc: 0.8890 - val_loss: 0.3445 - val_acc: 0.9410\n",
            "Epoch 13/30\n",
            " - 222s - loss: 0.2356 - acc: 0.9035 - val_loss: 0.3445 - val_acc: 0.9410\n",
            "Epoch 14/30\n",
            " - 222s - loss: 0.2425 - acc: 0.8970 - val_loss: 0.3445 - val_acc: 0.9420\n",
            "Epoch 15/30\n",
            " - 220s - loss: 0.2513 - acc: 0.8870 - val_loss: 0.3511 - val_acc: 0.9410\n",
            "Epoch 16/30\n",
            " - 220s - loss: 0.2557 - acc: 0.8840 - val_loss: 0.3503 - val_acc: 0.9410\n",
            "Epoch 17/30\n",
            " - 221s - loss: 0.2348 - acc: 0.9025 - val_loss: 0.3477 - val_acc: 0.9410\n",
            "Epoch 18/30\n",
            " - 221s - loss: 0.2594 - acc: 0.8850 - val_loss: 0.3518 - val_acc: 0.9410\n",
            "Epoch 19/30\n",
            " - 220s - loss: 0.2399 - acc: 0.8975 - val_loss: 0.3542 - val_acc: 0.9410\n",
            "Epoch 20/30\n",
            " - 220s - loss: 0.2441 - acc: 0.8890 - val_loss: 0.3519 - val_acc: 0.9410\n",
            "Epoch 21/30\n",
            " - 220s - loss: 0.2543 - acc: 0.8915 - val_loss: 0.3567 - val_acc: 0.9410\n",
            "Epoch 22/30\n",
            " - 219s - loss: 0.2654 - acc: 0.8885 - val_loss: 0.3559 - val_acc: 0.9410\n",
            "Epoch 23/30\n",
            " - 218s - loss: 0.2512 - acc: 0.8985 - val_loss: 0.3586 - val_acc: 0.9410\n",
            "Epoch 24/30\n",
            " - 219s - loss: 0.2543 - acc: 0.8930 - val_loss: 0.3568 - val_acc: 0.9410\n",
            "Epoch 25/30\n",
            " - 219s - loss: 0.2448 - acc: 0.8910 - val_loss: 0.3615 - val_acc: 0.9390\n",
            "Epoch 26/30\n",
            " - 218s - loss: 0.2433 - acc: 0.8935 - val_loss: 0.3594 - val_acc: 0.9400\n",
            "Epoch 27/30\n",
            " - 218s - loss: 0.2501 - acc: 0.8935 - val_loss: 0.3581 - val_acc: 0.9390\n",
            "Epoch 28/30\n",
            " - 220s - loss: 0.2538 - acc: 0.8990 - val_loss: 0.3560 - val_acc: 0.9400\n",
            "Epoch 29/30\n",
            " - 221s - loss: 0.2586 - acc: 0.8915 - val_loss: 0.3634 - val_acc: 0.9360\n",
            "Epoch 30/30\n",
            " - 220s - loss: 0.2463 - acc: 0.8920 - val_loss: 0.3636 - val_acc: 0.9370\n"
          ],
          "name": "stdout"
        }
      ]
    },
    {
      "metadata": {
        "id": "CtvNlEGFNTvf",
        "colab_type": "code",
        "colab": {
          "base_uri": "https://localhost:8080/",
          "height": 560
        },
        "outputId": "a2178f36-2b77-4e12-f952-86d665147504"
      },
      "cell_type": "code",
      "source": [
        "%matplotlib inline\n",
        "\n",
        "import matplotlib.pyplot as plt\n",
        "import matplotlib.image as mpimg\n",
        "\n",
        "# Retrieve a list of accuracy results on training and test data\n",
        "# sets for each training epoch\n",
        "acc = history.history['acc']\n",
        "val_acc = history.history['val_acc']\n",
        "\n",
        "# Retrieve a list of list results on training and test data\n",
        "# sets for each training epoch\n",
        "loss = history.history['loss']\n",
        "val_loss = history.history['val_loss']\n",
        "\n",
        "# Get number of epochs\n",
        "epochs = range(len(acc))\n",
        "\n",
        "# Plot training and validation accuracy per epoch\n",
        "plt.plot(epochs, acc)\n",
        "plt.plot(epochs, val_acc)\n",
        "plt.title('Training and validation accuracy')\n",
        "\n",
        "plt.figure()\n",
        "\n",
        "# Plot training and validation loss per epoch\n",
        "plt.plot(epochs, loss)\n",
        "plt.plot(epochs, val_loss)\n",
        "plt.title('Training and validation loss')"
      ],
      "execution_count": 10,
      "outputs": [
        {
          "output_type": "execute_result",
          "data": {
            "text/plain": [
              "Text(0.5,1,'Training and validation loss')"
            ]
          },
          "metadata": {
            "tags": []
          },
          "execution_count": 10
        },
        {
          "output_type": "display_data",
          "data": {
            "image/png": "[encoded data removed]",
            "text/plain": [
              "<matplotlib.figure.Figure at 0x7f2fd91c11d0>"
            ]
          },
          "metadata": {
            "tags": []
          }
        },
        {
          "output_type": "display_data",
          "data": {
            "image/png": "[encoded data removed]",
            "text/plain": [
              "<matplotlib.figure.Figure at 0x7f2fd7eaa5c0>"
            ]
          },
          "metadata": {
            "tags": []
          }
        }
      ]
    },
    {
      "metadata": {
        "id": "Fp9Tx7CjzdSm",
        "colab_type": "code",
        "colab": {}
      },
      "cell_type": "code",
      "source": [
        ""
      ],
      "execution_count": 0,
      "outputs": []
    }
  ]
}